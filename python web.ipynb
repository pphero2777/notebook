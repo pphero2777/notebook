{
 "cells": [
  {
   "cell_type": "markdown",
   "metadata": {},
   "source": [
    "# 第二章"
   ]
  },
  {
   "cell_type": "code",
   "execution_count": 13,
   "metadata": {
    "collapsed": false,
    "scrolled": true
   },
   "outputs": [
    {
     "name": "stdout",
     "output_type": "stream",
     "text": [
      "[Error 2] : u'web'\n",
      "C:\\Users\\Administrator\\web\n"
     ]
    }
   ],
   "source": [
    "cd web"
   ]
  },
  {
   "cell_type": "code",
   "execution_count": 14,
   "metadata": {
    "collapsed": false,
    "scrolled": false
   },
   "outputs": [
    {
     "name": "stdout",
     "output_type": "stream",
     "text": [
      "C:\\Users\\Administrator\\web\\chapter2\n"
     ]
    }
   ],
   "source": [
    "cd chapter2"
   ]
  },
  {
   "cell_type": "code",
   "execution_count": 19,
   "metadata": {
    "collapsed": false
   },
   "outputs": [
    {
     "name": "stdout",
     "output_type": "stream",
     "text": [
      "C:\\Users\\Administrator\\web\\chapter2\\section2\n"
     ]
    }
   ],
   "source": [
    "cd section2"
   ]
  },
  {
   "cell_type": "code",
   "execution_count": 20,
   "metadata": {
    "collapsed": false,
    "scrolled": true
   },
   "outputs": [
    {
     "name": "stdout",
     "output_type": "stream",
     "text": [
      " 驱动器 C 中的卷没有标签。\n",
      " 卷的序列号是 B479-9855\n",
      "\n",
      " C:\\Users\\Administrator\\web\\chapter2\\section2 的目录\n",
      "\n",
      "2017/05/21  17:33    <DIR>          .\n",
      "2017/05/21  17:33    <DIR>          ..\n",
      "2017/02/13  15:22               502 create-venv-script.py\n",
      "2017/02/13  15:22               967 create-venv-script_v2.py\n",
      "2017/02/13  15:22             4,970 pyvenv.py\n",
      "               3 个文件          6,439 字节\n",
      "               2 个目录 26,718,646,272 可用字节\n"
     ]
    }
   ],
   "source": [
    "%ls"
   ]
  },
  {
   "cell_type": "code",
   "execution_count": null,
   "metadata": {
    "collapsed": true
   },
   "outputs": [],
   "source": [
    "# %load create-venv-script.py\n",
    "import subprocess\n",
    "\n",
    "import virtualenv\n",
    "\n",
    "virtualenv_path = subprocess.check_output(['which', 'virtualenv']).strip()\n",
    "\n",
    "EXTRA_TEXT = '''\n",
    "def after_install(options, home_dir):\n",
    "    subprocess.call(['{}/bin/pip'.format(home_dir), 'install', 'flake8'])\n",
    "'''\n",
    "\n",
    "\n",
    "def main():\n",
    "    text = virtualenv.create_bootstrap_script(EXTRA_TEXT, python_version='2.7')\n",
    "    print 'Updating %s' % virtualenv_path\n",
    "    with open(virtualenv_path, 'w') as f:\n",
    "        f.write(text)\n",
    "\n",
    "\n",
    "if __name__ == '__main__':\n",
    "    main()\n"
   ]
  },
  {
   "cell_type": "code",
   "execution_count": null,
   "metadata": {
    "collapsed": false
   },
   "outputs": [],
   "source": [
    "# %load create-venv-script_v2.py\n",
    "import subprocess\n",
    "\n",
    "import virtualenv\n",
    "\n",
    "virtualenv_path = subprocess.check_output(['which', 'virtualenv']).strip()\n",
    "\n",
    "EXTRA_TEXT = '''\n",
    "ROOT_PATH = '/home/ubuntu/venv'\n",
    "\n",
    "\n",
    "def extend_parser(parser):\n",
    "    parser.add_option(\n",
    "        '-r','--req', action='append', type='string', dest='reqs',\n",
    "        help=\"specify additional required packages\", default=[])\n",
    "\n",
    "\n",
    "def adjust_options(options, args):\n",
    "    if not args:\n",
    "        return\n",
    "\n",
    "    base_dir = args[0]\n",
    "    args[0] = join(ROOT_PATH, base_dir)\n",
    "\n",
    "\n",
    "def after_install(options, home_dir):\n",
    "    if not options.reqs:\n",
    "        logger.warn('Warn: You maybe need specify some required packages!')\n",
    "\n",
    "    for req in options.reqs:\n",
    "        subprocess.call(['{}/bin/pip'.format(home_dir), 'install', req])\n",
    "'''\n",
    "\n",
    "\n",
    "def main():\n",
    "    text = virtualenv.create_bootstrap_script(EXTRA_TEXT, python_version='2.7')\n",
    "    print 'Updating %s' % virtualenv_path\n",
    "    with open(virtualenv_path, 'w') as f:\n",
    "        f.write(text)\n",
    "\n",
    "if __name__ == '__main__':\n",
    "    main()\n"
   ]
  },
  {
   "cell_type": "code",
   "execution_count": null,
   "metadata": {
    "collapsed": true
   },
   "outputs": [],
   "source": [
    "# %load pyvenv.py\n",
    "import os\n",
    "import sys\n",
    "import argparse\n",
    "import venv\n",
    "from subprocess import Popen, PIPE\n",
    "from threading import Thread\n",
    "from urllib.parse import urlparse\n",
    "from urllib.request import urlretrieve\n",
    "\n",
    "PYPI_URL = 'https://pypi.python.org/packages/source/'\n",
    "\n",
    "\n",
    "class ExtendedEnvBuilder(venv.EnvBuilder):\n",
    "\n",
    "    def __init__(self, *args, **kwargs):\n",
    "        self.nodist = kwargs.pop('nodist', False)\n",
    "        self.nopip = kwargs.pop('nopip', False)\n",
    "        self.progress = kwargs.pop('progress', None)\n",
    "        self.verbose = kwargs.pop('verbose', False)\n",
    "        self.reqs = kwargs.pop('reqs', [])\n",
    "        super().__init__(*args, **kwargs)\n",
    "\n",
    "    def post_setup(self, context):\n",
    "        os.environ['VIRTUAL_ENV'] = context.env_dir\n",
    "        for req in self.reqs:\n",
    "            self.install_req(context, req)\n",
    "\n",
    "    def create(self, env_dir):\n",
    "        super().create(env_dir)\n",
    "        if not env_dir.startswith('/'):\n",
    "            env_dir = os.path.join(os.getcwd(), env_dir)\n",
    "        print('Installed {}'.format(env_dir))\n",
    "\n",
    "    def reader(self, stream, context):\n",
    "        progress = self.progress\n",
    "        while True:\n",
    "            s = stream.readline()\n",
    "            if not s:\n",
    "                break\n",
    "            if progress is not None:\n",
    "                progress(s, context)\n",
    "            else:\n",
    "                if not self.verbose:\n",
    "                    sys.stderr.write('.')\n",
    "                else:\n",
    "                    sys.stderr.write(s.decode('utf-8'))\n",
    "                sys.stderr.flush()\n",
    "        stream.close()\n",
    "\n",
    "    def install_script(self, context, name, args, distpath=None):\n",
    "        progress = self.progress\n",
    "        binpath = context.bin_path\n",
    "\n",
    "        if self.verbose:\n",
    "            term = '\\n'\n",
    "        else:\n",
    "            term = ''\n",
    "        if progress is not None:\n",
    "            progress('Installing %s ...%s' % (name, term), 'main')\n",
    "        else:\n",
    "            sys.stderr.write('Installing %s ...%s' % (name, term))\n",
    "            sys.stderr.flush()\n",
    "\n",
    "        p = Popen(args, stdout=PIPE, stderr=PIPE, cwd=binpath)\n",
    "        t1 = Thread(target=self.reader, args=(p.stdout, 'stdout'))\n",
    "        t1.start()\n",
    "        t2 = Thread(target=self.reader, args=(p.stderr, 'stderr'))\n",
    "        t2.start()\n",
    "        p.wait()\n",
    "        t1.join()\n",
    "        t2.join()\n",
    "        if progress is not None:\n",
    "            progress('done.', 'main')\n",
    "        else:\n",
    "            sys.stderr.write('done.\\n')\n",
    "        if distpath is not None:\n",
    "            os.unlink(distpath)\n",
    "\n",
    "    def install_req(self, context, req):\n",
    "        args = [os.path.join(context.bin_path, 'pip'), 'install', req]\n",
    "        self.install_script(context, req, args)\n",
    "\n",
    "\n",
    "def main(args=None):\n",
    "    compatible = True\n",
    "    if sys.version_info < (3, 3):\n",
    "        compatible = False\n",
    "    elif not hasattr(sys, 'base_prefix'):\n",
    "        compatible = False\n",
    "    if not compatible:\n",
    "        raise ValueError('This script is only for use with '\n",
    "                         'Python 3.3 or later')\n",
    "\n",
    "    parser = argparse.ArgumentParser(\n",
    "        prog=__name__, description=(\n",
    "            'Creates virtual Python environments in one or '\n",
    "            'more target directories.'))\n",
    "    parser.add_argument('dirs', metavar='ENV_DIR', nargs='+',\n",
    "                        help='A directory to create the environment in.')\n",
    "    parser.add_argument('-r', '--req', nargs='*',\n",
    "                        dest='reqs', help=(\n",
    "                            'specify additional required distributions'))\n",
    "    if os.name == 'nt':\n",
    "        use_symlinks = False\n",
    "    else:\n",
    "        use_symlinks = True\n",
    "    parser.add_argument('--symlinks', default=use_symlinks,\n",
    "                        action='store_true', dest='symlinks',\n",
    "                        help='Try to use symlinks rather than copies, '\n",
    "                        'when symlinks are not the default for '\n",
    "                        'the platform.')\n",
    "    parser.add_argument('--clear', default=False, action='store_true',\n",
    "                        dest='clear', help=(\n",
    "                            'Delete the contents of the '\n",
    "                            'environment directory if it '\n",
    "                            'already exists, before '\n",
    "                            'environment creation.'))\n",
    "    parser.add_argument('--upgrade', default=False, action='store_true',\n",
    "                        dest='upgrade', help=(\n",
    "                            'Upgrade the environment '\n",
    "                            'directory to use this version '\n",
    "                            'of Python, assuming Python '\n",
    "                            'has been upgraded in-place.'))\n",
    "    options = parser.parse_args(args)\n",
    "    if options.upgrade and options.clear:\n",
    "        raise ValueError(\n",
    "            'you cannot supply --upgrade and --clear together.')\n",
    "    builder = ExtendedEnvBuilder(\n",
    "        clear=options.clear, symlinks=options.symlinks,\n",
    "        upgrade=options.upgrade,\n",
    "        reqs=options.reqs, with_pip=True)\n",
    "    for d in options.dirs:\n",
    "        builder.create(d)\n",
    "\n",
    "\n",
    "if __name__ == '__main__':\n",
    "    rc = 1\n",
    "    try:\n",
    "        main()\n",
    "        rc = 0\n",
    "    except Exception as e:\n",
    "        print('Error: %s' % e, file=sys.stderr)\n",
    "    sys.exit(rc)\n"
   ]
  }
 ],
 "metadata": {
  "kernelspec": {
   "display_name": "Python 2",
   "language": "python",
   "name": "python2"
  },
  "language_info": {
   "codemirror_mode": {
    "name": "ipython",
    "version": 2
   },
   "file_extension": ".py",
   "mimetype": "text/x-python",
   "name": "python",
   "nbconvert_exporter": "python",
   "pygments_lexer": "ipython2",
   "version": "2.7.13"
  },
  "toc": {
   "colors": {
    "hover_highlight": "#DAA520",
    "running_highlight": "#FF0000",
    "selected_highlight": "#FFD700"
   },
   "moveMenuLeft": true,
   "nav_menu": {
    "height": "31px",
    "width": "252px"
   },
   "navigate_menu": true,
   "number_sections": true,
   "sideBar": true,
   "threshold": 4,
   "toc_cell": false,
   "toc_section_display": "block",
   "toc_window_display": true,
   "widenNotebook": false
  }
 },
 "nbformat": 4,
 "nbformat_minor": 2
}
