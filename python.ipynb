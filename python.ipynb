{
 "cells": [
  {
   "cell_type": "markdown",
   "metadata": {
    "toc": "true"
   },
   "source": [
    "# Table of Contents\n",
    " <p><div class=\"lev1 toc-item\"><a href=\"#计算\" data-toc-modified-id=\"计算-1\"><span class=\"toc-item-num\">1&nbsp;&nbsp;</span>计算</a></div><div class=\"lev2 toc-item\"><a href=\"#取余\" data-toc-modified-id=\"取余-11\"><span class=\"toc-item-num\">1.1&nbsp;&nbsp;</span>取余</a></div><div class=\"lev2 toc-item\"><a href=\"#整除\" data-toc-modified-id=\"整除-12\"><span class=\"toc-item-num\">1.2&nbsp;&nbsp;</span>整除</a></div><div class=\"lev1 toc-item\"><a href=\"#时间\" data-toc-modified-id=\"时间-2\"><span class=\"toc-item-num\">2&nbsp;&nbsp;</span>时间</a></div><div class=\"lev2 toc-item\"><a href=\"#切割时间\" data-toc-modified-id=\"切割时间-21\"><span class=\"toc-item-num\">2.1&nbsp;&nbsp;</span>切割时间</a></div><div class=\"lev2 toc-item\"><a href=\"#当前时间加一个月\" data-toc-modified-id=\"当前时间加一个月-22\"><span class=\"toc-item-num\">2.2&nbsp;&nbsp;</span>当前时间加一个月</a></div><div class=\"lev1 toc-item\"><a href=\"#列表\" data-toc-modified-id=\"列表-3\"><span class=\"toc-item-num\">3&nbsp;&nbsp;</span>列表</a></div><div class=\"lev2 toc-item\"><a href=\"#dir\" data-toc-modified-id=\"dir-31\"><span class=\"toc-item-num\">3.1&nbsp;&nbsp;</span>dir</a></div><div class=\"lev2 toc-item\"><a href=\"#增加元素\" data-toc-modified-id=\"增加元素-32\"><span class=\"toc-item-num\">3.2&nbsp;&nbsp;</span>增加元素</a></div><div class=\"lev2 toc-item\"><a href=\"#删除元素\" data-toc-modified-id=\"删除元素-33\"><span class=\"toc-item-num\">3.3&nbsp;&nbsp;</span>删除元素</a></div><div class=\"lev2 toc-item\"><a href=\"#倒序\" data-toc-modified-id=\"倒序-34\"><span class=\"toc-item-num\">3.4&nbsp;&nbsp;</span>倒序</a></div><div class=\"lev1 toc-item\"><a href=\"#字符串\" data-toc-modified-id=\"字符串-4\"><span class=\"toc-item-num\">4&nbsp;&nbsp;</span>字符串</a></div><div class=\"lev2 toc-item\"><a href=\"#分割字符串\" data-toc-modified-id=\"分割字符串-41\"><span class=\"toc-item-num\">4.1&nbsp;&nbsp;</span>分割字符串</a></div><div class=\"lev2 toc-item\"><a href=\"#替换字符\" data-toc-modified-id=\"替换字符-42\"><span class=\"toc-item-num\">4.2&nbsp;&nbsp;</span>替换字符</a></div><div class=\"lev2 toc-item\"><a href=\"#长度\" data-toc-modified-id=\"长度-43\"><span class=\"toc-item-num\">4.3&nbsp;&nbsp;</span>长度</a></div><div class=\"lev1 toc-item\"><a href=\"#python自动化测试\" data-toc-modified-id=\"python自动化测试-5\"><span class=\"toc-item-num\">5&nbsp;&nbsp;</span>python自动化测试</a></div><div class=\"lev1 toc-item\"><a href=\"##Python接口测试之Requests\" data-toc-modified-id=\"#Python接口测试之Requests-6\"><span class=\"toc-item-num\">6&nbsp;&nbsp;</span>#Python接口测试之Requests</a></div><div class=\"lev1 toc-item\"><a href=\"#使用UUID库生成唯一ID\" data-toc-modified-id=\"使用UUID库生成唯一ID-7\"><span class=\"toc-item-num\">7&nbsp;&nbsp;</span>使用UUID库生成唯一ID</a></div>"
   ]
  },
  {
   "cell_type": "code",
   "execution_count": 1,
   "metadata": {
    "collapsed": false
   },
   "outputs": [
    {
     "name": "stdout",
     "output_type": "stream",
     "text": [
      "1\n",
      "2\n",
      "3\n",
      "4\n"
     ]
    }
   ],
   "source": [
    "for i in range(1, 5): \n",
    "    print i       "
   ]
  },
  {
   "cell_type": "code",
   "execution_count": 10,
   "metadata": {
    "collapsed": false
   },
   "outputs": [
    {
     "data": {
      "text/plain": [
       "{1, 2, 4, 5, 7, 8, 9, 13, 34}"
      ]
     },
     "execution_count": 10,
     "metadata": {},
     "output_type": "execute_result"
    }
   ],
   "source": [
    "list1 = [1,2,4,5,7,8] #集合\n",
    "list2 = [4,7,8,9,13,34]\n",
    "list3 = list1 + list2\n",
    "set(list3)"
   ]
  },
  {
   "cell_type": "code",
   "execution_count": 12,
   "metadata": {
    "collapsed": false,
    "scrolled": true
   },
   "outputs": [
    {
     "name": "stdout",
     "output_type": "stream",
     "text": [
      "Enter password: ········\n",
      "Verify password: ········\n"
     ]
    },
    {
     "data": {
      "text/plain": [
       "'sha1:62c8af88b8bd:b33cff8c8d0b7ab4c9e7c3efdd27bce7f156ef6e'"
      ]
     },
     "execution_count": 12,
     "metadata": {},
     "output_type": "execute_result"
    }
   ],
   "source": [
    "from IPython.lib import passwd #jupyter设置密码\n",
    "passwd()"
   ]
  },
  {
   "cell_type": "markdown",
   "metadata": {},
   "source": [
    "# 计算"
   ]
  },
  {
   "cell_type": "markdown",
   "metadata": {},
   "source": [
    "## 取余"
   ]
  },
  {
   "cell_type": "code",
   "execution_count": 3,
   "metadata": {
    "collapsed": false
   },
   "outputs": [
    {
     "name": "stdout",
     "output_type": "stream",
     "text": [
      "1\n",
      "0\n"
     ]
    }
   ],
   "source": [
    "print 5%2\n",
    "print 4%2"
   ]
  },
  {
   "cell_type": "markdown",
   "metadata": {},
   "source": [
    "## 整除"
   ]
  },
  {
   "cell_type": "code",
   "execution_count": 20,
   "metadata": {
    "collapsed": false
   },
   "outputs": [
    {
     "name": "stdout",
     "output_type": "stream",
     "text": [
      "0 ==== 0\n",
      "13 ==== 12\n",
      "26 ==== 24\n",
      "39 ==== 36\n",
      "3\n"
     ]
    }
   ],
   "source": [
    "b = []\n",
    "for i in range(28):\n",
    "    b.append(12 * 13 * i)\n",
    "for i in b:\n",
    "    print i//12,'====', i//13\n",
    "    if i//12 > 30:\n",
    "        break\n",
    "print 1+2"
   ]
  },
  {
   "cell_type": "markdown",
   "metadata": {},
   "source": [
    "# 时间"
   ]
  },
  {
   "cell_type": "code",
   "execution_count": 3,
   "metadata": {
    "collapsed": false
   },
   "outputs": [
    {
     "data": {
      "text/plain": [
       "1490347071392L"
      ]
     },
     "execution_count": 3,
     "metadata": {},
     "output_type": "execute_result"
    }
   ],
   "source": [
    "import time #时间戳\n",
    "int(time.time()*1000)"
   ]
  },
  {
   "cell_type": "code",
   "execution_count": 6,
   "metadata": {
    "collapsed": false
   },
   "outputs": [
    {
     "data": {
      "text/plain": [
       "'2017-03-25'"
      ]
     },
     "execution_count": 6,
     "metadata": {},
     "output_type": "execute_result"
    }
   ],
   "source": [
    "import datetime #odoo获取本地日期\n",
    "(datetime.datetime.now()+datetime.timedelta(hours=8)).strftime('%Y-%m-%d')"
   ]
  },
  {
   "cell_type": "code",
   "execution_count": 6,
   "metadata": {
    "collapsed": false,
    "scrolled": true
   },
   "outputs": [
    {
     "name": "stdout",
     "output_type": "stream",
     "text": [
      "2017-03-30 09:08:12\n",
      "2017-03-30 17:08:12\n"
     ]
    }
   ],
   "source": [
    "import datetime #string -->日期时间转换 相加8小时\n",
    "import time\n",
    "format_birth = '2017-03-30 09:08:12'\n",
    "tup_birth = datetime.datetime.strptime(format_birth, \"%Y-%m-%d %H:%M:%S\")\n",
    "print tup_birth\n",
    "time = (tup_birth+datetime.timedelta(hours=8)).strftime(\"%Y-%m-%d %H:%M:%S\")\n",
    "print time"
   ]
  },
  {
   "cell_type": "code",
   "execution_count": 4,
   "metadata": {
    "collapsed": false
   },
   "outputs": [
    {
     "name": "stdout",
     "output_type": "stream",
     "text": [
      "1491536060.13\n"
     ]
    }
   ],
   "source": [
    "import datetime #string -->日期时间转换 相加8小时\n",
    "import time\n",
    "d = time.time()\n",
    "print d"
   ]
  },
  {
   "cell_type": "markdown",
   "metadata": {},
   "source": [
    "## 切割时间"
   ]
  },
  {
   "cell_type": "code",
   "execution_count": 5,
   "metadata": {
    "collapsed": false
   },
   "outputs": [
    {
     "data": {
      "text/plain": [
       "'08-10'"
      ]
     },
     "execution_count": 5,
     "metadata": {},
     "output_type": "execute_result"
    }
   ],
   "source": [
    "time = '2016-08-10'\n",
    "time[5:10]"
   ]
  },
  {
   "cell_type": "code",
   "execution_count": 1,
   "metadata": {
    "collapsed": false
   },
   "outputs": [
    {
     "name": "stdout",
     "output_type": "stream",
     "text": [
      "2017-04-15\n"
     ]
    }
   ],
   "source": [
    "time =  \"2017-04-15 08:27:45\"\n",
    "tt = time.split(' ')\n",
    "print tt[0]"
   ]
  },
  {
   "cell_type": "markdown",
   "metadata": {},
   "source": [
    "## 当前时间加一个月"
   ]
  },
  {
   "cell_type": "code",
   "execution_count": 5,
   "metadata": {
    "collapsed": false
   },
   "outputs": [
    {
     "data": {
      "text/plain": [
       "datetime.datetime(2017, 5, 15, 17, 26, 42, 496000)"
      ]
     },
     "execution_count": 5,
     "metadata": {},
     "output_type": "execute_result"
    }
   ],
   "source": [
    "#! /usr/bin/python\n",
    "# coding=utf-8\n",
    "import datetime \n",
    "from dateutil.relativedelta import relativedelta\n",
    "date = datetime.datetime.now()\n",
    "date + relativedelta(months=1)"
   ]
  },
  {
   "cell_type": "markdown",
   "metadata": {},
   "source": [
    "# 列表"
   ]
  },
  {
   "cell_type": "markdown",
   "metadata": {},
   "source": [
    "## dir"
   ]
  },
  {
   "cell_type": "code",
   "execution_count": 19,
   "metadata": {
    "collapsed": false,
    "scrolled": true
   },
   "outputs": [
    {
     "name": "stdout",
     "output_type": "stream",
     "text": [
      "['__add__', '__class__', '__contains__', '__delattr__', '__delitem__', '__delslice__', '__doc__', '__eq__', '__format__', '__ge__', '__getattribute__', '__getitem__', '__getslice__', '__gt__', '__hash__', '__iadd__', '__imul__', '__init__', '__iter__', '__le__', '__len__', '__lt__', '__mul__', '__ne__', '__new__', '__reduce__', '__reduce_ex__', '__repr__', '__reversed__', '__rmul__', '__setattr__', '__setitem__', '__setslice__', '__sizeof__', '__str__', '__subclasshook__', 'append', 'count', 'extend', 'index', 'insert', 'pop', 'remove', 'reverse', 'sort']\n"
     ]
    }
   ],
   "source": [
    "print dir([])"
   ]
  },
  {
   "cell_type": "markdown",
   "metadata": {},
   "source": [
    "## 增加元素"
   ]
  },
  {
   "cell_type": "code",
   "execution_count": 20,
   "metadata": {
    "collapsed": false
   },
   "outputs": [
    {
     "name": "stdout",
     "output_type": "stream",
     "text": [
      "[5, 20, 50, 100, 300, 500, 1000]\n"
     ]
    }
   ],
   "source": [
    "e = [5, 20, 50, 100, 300, 500]\n",
    "e.append(1000)\n",
    "print e"
   ]
  },
  {
   "cell_type": "markdown",
   "metadata": {},
   "source": [
    "## 删除元素"
   ]
  },
  {
   "cell_type": "code",
   "execution_count": 21,
   "metadata": {
    "collapsed": false,
    "scrolled": true
   },
   "outputs": [
    {
     "name": "stdout",
     "output_type": "stream",
     "text": [
      "[20, 50, 100, 300, 500]\n"
     ]
    }
   ],
   "source": [
    "e = [5, 20, 50, 100, 300, 500]\n",
    "# print dir(e)\n",
    "e.remove(5)\n",
    "print e"
   ]
  },
  {
   "cell_type": "markdown",
   "metadata": {},
   "source": [
    "## 倒序"
   ]
  },
  {
   "cell_type": "code",
   "execution_count": 12,
   "metadata": {
    "collapsed": false
   },
   "outputs": [
    {
     "data": {
      "text/plain": [
       "'ksjakshd'"
      ]
     },
     "execution_count": 12,
     "metadata": {},
     "output_type": "execute_result"
    }
   ],
   "source": [
    "t = 'dhskajsk' # 倒序\n",
    "t[::-1]"
   ]
  },
  {
   "cell_type": "markdown",
   "metadata": {},
   "source": [
    "# 字符串"
   ]
  },
  {
   "cell_type": "markdown",
   "metadata": {},
   "source": [
    "## 分割字符串"
   ]
  },
  {
   "cell_type": "code",
   "execution_count": 7,
   "metadata": {
    "collapsed": false
   },
   "outputs": [
    {
     "name": "stdout",
     "output_type": "stream",
     "text": [
      "['\\xe4\\xb8\\x80\\xe5\\x9d\\x97\\xe7\\xb2\\xbe\\xe9\\x80\\x89\\xe8\\x9b\\x8b\\xe7\\xb3\\x95', '\\xe7\\x94\\x9f\\xe6\\x97\\xa5\\xe5\\xbd\\x93\\xe5\\xa4\\xa9\\xe5\\x85\\x8d\\xe8\\xb4\\xb9\\xe9\\xa2\\x86\\xe5\\x8f\\x96']\n"
     ]
    }
   ],
   "source": [
    "st = '1、一块精选蛋糕2、生日当天免费领取'\n",
    "s = st.split('1、')[1].split('2、')\n",
    "print s"
   ]
  },
  {
   "cell_type": "code",
   "execution_count": 5,
   "metadata": {
    "collapsed": false
   },
   "outputs": [
    {
     "name": "stdout",
     "output_type": "stream",
     "text": [
      "67890123\n"
     ]
    }
   ],
   "source": [
    "st = 'wx1234567890123'\n",
    "print st[7:]"
   ]
  },
  {
   "cell_type": "markdown",
   "metadata": {},
   "source": [
    "## 替换字符"
   ]
  },
  {
   "cell_type": "code",
   "execution_count": 2,
   "metadata": {
    "collapsed": false
   },
   "outputs": [
    {
     "data": {
      "text/plain": [
       "'2016/08/10'"
      ]
     },
     "execution_count": 2,
     "metadata": {},
     "output_type": "execute_result"
    }
   ],
   "source": [
    "time = '2016-08-10'\n",
    "time.replace('-', '/')"
   ]
  },
  {
   "cell_type": "markdown",
   "metadata": {},
   "source": [
    "## 长度"
   ]
  },
  {
   "cell_type": "code",
   "execution_count": 36,
   "metadata": {
    "collapsed": false
   },
   "outputs": [
    {
     "name": "stdout",
     "output_type": "stream",
     "text": [
      "8\n",
      "99234515\n"
     ]
    }
   ],
   "source": [
    "st = '99234515'\n",
    "print len(st)\n",
    "print '0'*(8-len(st)) + st"
   ]
  },
  {
   "cell_type": "markdown",
   "metadata": {},
   "source": [
    "#  python自动化测试"
   ]
  },
  {
   "cell_type": "markdown",
   "metadata": {},
   "source": [
    "# #Python接口测试之Requests"
   ]
  },
  {
   "cell_type": "code",
   "execution_count": 14,
   "metadata": {
    "collapsed": false
   },
   "outputs": [
    {
     "name": "stdout",
     "output_type": "stream",
     "text": [
      "{u'documentation_url': u'https://developer.github.com/v3/activity/events/#list-public-events', u'message': u'Hello there, wayfaring stranger. If you\\u2019re reading this then you probably didn\\u2019t see our blog post a couple of years back announcing that this API would go away: http://git.io/17AROg Fear not, you should be able to get what you need from the shiny new Events API instead.'}\n",
      "{u'files': {}, u'origin': u'119.137.53.14', u'form': {}, u'url': u'http://httpbin.org/put', u'args': {}, u'headers': {u'Content-Length': u'0', u'Accept-Encoding': u'gzip, deflate', u'Host': u'httpbin.org', u'Accept': u'*/*', u'User-Agent': u'python-requests/2.12.4', u'Connection': u'close'}, u'json': None, u'data': u''}\n",
      "{u'files': {}, u'origin': u'119.137.53.14', u'form': {}, u'url': u'http://httpbin.org/post', u'args': {}, u'headers': {u'Content-Length': u'0', u'Accept-Encoding': u'gzip, deflate', u'Host': u'httpbin.org', u'Accept': u'*/*', u'User-Agent': u'python-requests/2.12.4', u'Connection': u'close'}, u'json': None, u'data': u''}\n"
     ]
    }
   ],
   "source": [
    "#coding:utf-8\n",
    "import requests #requests 的get、put、post、delete的使用\n",
    "d = requests.get('https://github.com/timeline.json')\n",
    "print d.json()\n",
    "p = requests.put('http://httpbin.org/put')\n",
    "print p.json()\n",
    "po = requests.post('http://httpbin.org/post')\n",
    "print po.json()\n",
    "# de = requests.delete('http://httpbin/ddelete')\n",
    "# print de.json()"
   ]
  },
  {
   "cell_type": "code",
   "execution_count": 15,
   "metadata": {
    "collapsed": false
   },
   "outputs": [
    {
     "data": {
      "text/plain": [
       "[<matplotlib.lines.Line2D at 0x8466828>]"
      ]
     },
     "execution_count": 15,
     "metadata": {},
     "output_type": "execute_result"
    }
   ],
   "source": [
    "import matplotlib.pyplot as plt\n",
    "import numpy as np\n",
    "\n",
    "x = np.arange(20)\n",
    "y = x**2\n",
    "\n",
    "plt.plot(x, y)"
   ]
  },
  {
   "cell_type": "markdown",
   "metadata": {
    "collapsed": true
   },
   "source": [
    "# 使用UUID库生成唯一ID"
   ]
  },
  {
   "cell_type": "code",
   "execution_count": 2,
   "metadata": {
    "collapsed": false
   },
   "outputs": [
    {
     "name": "stdout",
     "output_type": "stream",
     "text": [
      "9251e01e-1e91-11e7-abb9-000c29d0566d\n",
      "1c38c3f4-4f5c-4f6d-b3a1-10f0dbc608ac\n"
     ]
    }
   ],
   "source": [
    "# -*- coding: utf-8 -*-\n",
    "\n",
    "import uuid\n",
    "\n",
    "name = \"test_name\"\n",
    "namespace = \"test_namespace\"\n",
    "\n",
    "print uuid.uuid1()  # 带参的方法参见Python Doc\n",
    "# print uuid.uuid3(namespace, name)\n",
    "print uuid.uuid4()\n",
    "# print uuid.uuid5(namespace, name)"
   ]
  },
  {
   "cell_type": "code",
   "execution_count": null,
   "metadata": {
    "collapsed": true
   },
   "outputs": [],
   "source": []
  }
 ],
 "metadata": {
  "kernelspec": {
   "display_name": "Python 2",
   "language": "python",
   "name": "python2"
  },
  "language_info": {
   "codemirror_mode": {
    "name": "ipython",
    "version": 2
   },
   "file_extension": ".py",
   "mimetype": "text/x-python",
   "name": "python",
   "nbconvert_exporter": "python",
   "pygments_lexer": "ipython2",
   "version": "2.7.13"
  },
  "toc": {
   "colors": {
    "hover_highlight": "#DAA520",
    "running_highlight": "#FF0000",
    "selected_highlight": "#FFD700"
   },
   "moveMenuLeft": true,
   "nav_menu": {
    "height": "49px",
    "width": "252px"
   },
   "navigate_menu": true,
   "number_sections": true,
   "sideBar": false,
   "threshold": 4,
   "toc_cell": true,
   "toc_position": {
    "height": "629px",
    "left": "1px",
    "right": "1427.47px",
    "top": "107px",
    "width": "191px"
   },
   "toc_section_display": "block",
   "toc_window_display": true,
   "widenNotebook": false
  }
 },
 "nbformat": 4,
 "nbformat_minor": 2
}
