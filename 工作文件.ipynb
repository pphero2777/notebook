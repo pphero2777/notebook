{
 "cells": [
  {
   "cell_type": "markdown",
   "metadata": {},
   "source": [
    "# 4-23 微信公众号"
   ]
  },
  {
   "cell_type": "markdown",
   "metadata": {},
   "source": [
    "## 需更新文件"
   ]
  },
  {
   "cell_type": "raw",
   "metadata": {
    "collapsed": true
   },
   "source": [
    "vip_membership文件 需升级'VIP会员管理'模块\n",
    "已修改 : /branches/aix/addons/vip_membership/vip_membership.py\n",
    "已修改 : /branches/aix/addons/vip_membership/vip_membership_view.xml \n",
    "\n",
    "payment_wechat文件 需重启服务器\n",
    "已修改 : /branches/aix/addons/payment_wechat/models/wechat.py\n",
    "已修改 : /branches/aix/addons/payment_wechat/controllers/main.py\n",
    "\n",
    "electronic_coupon文件 需重启服务器\n",
    "已修改 : /branches/aix/addons/electronic_coupon/ele_coupon.py\n",
    "\n",
    "point_of_sale文件 需重启服务器，升级'Point of Sale'模块，清浏览器缓存\n",
    "已修改 : /branches/aix/addons/point_of_sale/point_of_sale.py\n",
    "已修改 : /branches/aix/addons/point_of_sale/point_of_sale_view.xml\n",
    "已修改 : /branches/aix/addons/point_of_sale/static/src/js/screens.js\n",
    "已修改 : /branches/aix/addons/point_of_sale/static/src/js/widgets.js\n",
    "\n",
    "\n"
   ]
  }
 ],
 "metadata": {
  "kernelspec": {
   "display_name": "Python 2",
   "language": "python",
   "name": "python2"
  },
  "language_info": {
   "codemirror_mode": {
    "name": "ipython",
    "version": 2
   },
   "file_extension": ".py",
   "mimetype": "text/x-python",
   "name": "python",
   "nbconvert_exporter": "python",
   "pygments_lexer": "ipython2",
   "version": "2.7.13"
  },
  "toc": {
   "colors": {
    "hover_highlight": "#DAA520",
    "running_highlight": "#FF0000",
    "selected_highlight": "#FFD700"
   },
   "moveMenuLeft": true,
   "nav_menu": {
    "height": "12px",
    "width": "252px"
   },
   "navigate_menu": true,
   "number_sections": true,
   "sideBar": true,
   "threshold": 4,
   "toc_cell": false,
   "toc_section_display": "block",
   "toc_window_display": true,
   "widenNotebook": false
  }
 },
 "nbformat": 4,
 "nbformat_minor": 2
}
